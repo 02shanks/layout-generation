{
  "nbformat": 4,
  "nbformat_minor": 0,
  "metadata": {
    "colab": {
      "name": "metrics.ipynb",
      "provenance": [],
      "collapsed_sections": []
    },
    "kernelspec": {
      "name": "python3",
      "display_name": "Python 3"
    },
    "language_info": {
      "name": "python"
    }
  },
  "cells": [
    {
      "cell_type": "markdown",
      "metadata": {
        "id": "F_A3n24sMYfx"
      },
      "source": [
        "#Imports"
      ]
    },
    {
      "cell_type": "code",
      "metadata": {
        "colab": {
          "base_uri": "https://localhost:8080/"
        },
        "id": "I3oR3QRKPSfu",
        "outputId": "e9e4bcd8-0436-48d4-ed38-a338a4ae3d12"
      },
      "source": [
        "# Drive Mounting (for Google Colab only). If not using Colab, comment the below two lines.\n",
        "from google.colab import drive\n",
        "drive.mount('/content/drive')"
      ],
      "execution_count": 1,
      "outputs": [
        {
          "output_type": "stream",
          "text": [
            "Drive already mounted at /content/drive; to attempt to forcibly remount, call drive.mount(\"/content/drive\", force_remount=True).\n"
          ],
          "name": "stdout"
        }
      ]
    },
    {
      "cell_type": "code",
      "metadata": {
        "id": "yEjKDwojt5qE"
      },
      "source": [
        "import numpy as np\n",
        "import pandas as pd\n",
        "from shapely.geometry import Polygon"
      ],
      "execution_count": 2,
      "outputs": []
    },
    {
      "cell_type": "code",
      "metadata": {
        "id": "X3kiwgIpsQzN"
      },
      "source": [
        "root=\"/content/drive/MyDrive/Folder_Name/\"               #path of the root directory"
      ],
      "execution_count": 3,
      "outputs": []
    },
    {
      "cell_type": "markdown",
      "metadata": {
        "id": "jdCPjnwvMgVc"
      },
      "source": [
        "#Data Loading"
      ]
    },
    {
      "cell_type": "code",
      "metadata": {
        "id": "3ybVHIU8uRoW"
      },
      "source": [
        "publaydata = np.load(root+\"publaynet.npy\")\n",
        "Transformer_res=np.load(root+\"trans.npy\")\n",
        "VAE_res = np.load(root+\"VAE_res.npy\")\n",
        "GAN_res = np.load(root+\"GAN_res.npy\")"
      ],
      "execution_count": 4,
      "outputs": []
    },
    {
      "cell_type": "markdown",
      "metadata": {
        "id": "Y83pq-l_NL8y"
      },
      "source": [
        "Reshaping and arranging data in an optimal format. Preferred format is [c x y w h]\n",
        "\n",
        "* c is the class of the box.\n",
        "* x and y are the corrdinates for the top left corner of the box.\n",
        "* w and h are the width and height respectively. \n",
        "---\n",
        "\n"
      ]
    },
    {
      "cell_type": "code",
      "metadata": {
        "id": "u_RK-gO_YPYj",
        "colab": {
          "base_uri": "https://localhost:8080/"
        },
        "outputId": "a2453ea3-1302-44b8-dff5-67bfd9c979bc"
      },
      "source": [
        "g_data = GAN_res.reshape((1024, 9, 9))[:1000]\n",
        "g_data = g_data[...,0:5]\n",
        "g_data = g_data[...,[4,0,1,2,3]]\n",
        "g_data[...,1] = g_data[...,1] - g_data[...,3]/2\n",
        "g_data[...,2] = g_data[...,2] - g_data[...,4]/2\n",
        "\n",
        "g_data[0]"
      ],
      "execution_count": 5,
      "outputs": [
        {
          "output_type": "execute_result",
          "data": {
            "text/plain": [
              "array([[0.37773186, 0.06993452, 0.19879478, 0.93849486, 0.37714368],\n",
              "       [0.63268024, 0.08424908, 0.09495369, 0.7752126 , 0.770834  ],\n",
              "       [0.31078017, 0.22171676, 0.65355074, 0.6689019 , 0.08199155],\n",
              "       [0.9312403 , 0.20145085, 0.0982542 , 0.66996616, 0.05629438],\n",
              "       [0.6019517 , 0.11892939, 0.76413304, 0.7681484 , 0.15887733],\n",
              "       [0.31345773, 0.22002116, 0.64820474, 0.67002124, 0.08382312],\n",
              "       [0.31812534, 0.22010046, 0.6488024 , 0.6710409 , 0.08644559],\n",
              "       [0.36010844, 0.07238191, 0.18851566, 0.9383161 , 0.40076703],\n",
              "       [0.93621445, 0.20135537, 0.09839028, 0.66991025, 0.05546013]],\n",
              "      dtype=float32)"
            ]
          },
          "metadata": {
            "tags": []
          },
          "execution_count": 5
        }
      ]
    },
    {
      "cell_type": "markdown",
      "metadata": {
        "id": "YMkdEbASNVY6"
      },
      "source": [
        "#Losses\n",
        "Overall three losses are discussed for the comparison:\n",
        "* Overlapping\n",
        "* Alignment\n",
        "* IoU\n",
        "\n",
        "The expressions for the calculations can be found in the Readme shared."
      ]
    },
    {
      "cell_type": "code",
      "metadata": {
        "id": "MwXRP1cqv6qT"
      },
      "source": [
        "def overlapping_loss(result):\n",
        "    losses=np.zeros(len(result))\n",
        "    idx=0\n",
        "    for i in result:\n",
        "        over=0\n",
        "        for j in range(len(i)):\n",
        "            A=float(i[j][3]*i[j][4])\n",
        "            if A==0:\n",
        "                continue\n",
        "            for k in range(len(i)):\n",
        "                if j==k:\n",
        "                    continue\n",
        "                x1=i[j][1]\n",
        "                x2=i[j][1]+i[j][3]\n",
        "                y1=i[j][2]\n",
        "                y2=i[j][2]+i[j][4]\n",
        "                x3=i[k][1]\n",
        "                x4=i[k][1]+i[k][3]\n",
        "                y3=i[k][2]\n",
        "                y4=i[k][2]+i[k][4]\n",
        "                x_over=max(min(x2,x4)-max(x1,x3),0)\n",
        "                y_over=max(min(y2,y4)-max(y1,y3),0)\n",
        "                over+=x_over*y_over/A\n",
        "        losses[idx]=over\n",
        "        idx+=1\n",
        "    return np.mean(losses)*100"
      ],
      "execution_count": 6,
      "outputs": []
    },
    {
      "cell_type": "code",
      "metadata": {
        "id": "vm1lD-2dHNtF"
      },
      "source": [
        "def alignment_loss(result):\n",
        "    xl =result[...,1]           \n",
        "    yl = result[...,2]\n",
        "    \n",
        "    xr = xl+result[...,3]\n",
        "    yr = yl + result[...,4]\n",
        "\n",
        "    xc = (xl + xr)/2\n",
        "    yc = (yl + yr)/2\n",
        "\n",
        "    ele = [xl , yl , xc, yc, xr, yr]\n",
        "    ele1 = []\n",
        "    epsilon = 0\n",
        "    for element in ele:\n",
        "        min_xl = np.ones(shape = element.shape)\n",
        "        for i in range(len(element)):\n",
        "            for j in range(len(element[i])):\n",
        "                for k in range(len(element[i])): \n",
        "                    if j != k :\n",
        "                        min_xl[i][j] = min(min_xl[i][j],abs(element[i][j]-element[i][k]))        \n",
        "        min_xl = -np.log(1.0-min_xl + epsilon)\n",
        "        ele1.append(min_xl)\n",
        "    ele1 = np.min(np.array(ele1), axis = 0)\n",
        "    ele1 = np.mean(np.sum(ele1 , axis  = 1))\n",
        "    return ele1*100"
      ],
      "execution_count": 7,
      "outputs": []
    },
    {
      "cell_type": "code",
      "metadata": {
        "id": "DHPkZGI1C9sc"
      },
      "source": [
        "def calculate_iou(result):\n",
        "    losses=np.zeros(len(result))\n",
        "    idx=0\n",
        "    for i in result:\n",
        "        iou=0\n",
        "        for j in range(len(i)):\n",
        "            for k in range(j+1,len(i)):\n",
        "                x1=i[j][1]\n",
        "                x2=i[j][1]+i[j][3]\n",
        "                y1=i[j][2]\n",
        "                y2=i[j][2]+i[j][4]\n",
        "                x3=i[k][1]\n",
        "                x4=i[k][1]+i[k][3]\n",
        "                y3=i[k][2]\n",
        "                y4=i[k][2]+i[k][4]\n",
        "\n",
        "                box_1 = [[x1, y1], [x2, y1], [x2, y2], [x1, y2]]\n",
        "                box_2 = [[x3, y3], [x4, y3], [x4, y4], [x3, y4]]\n",
        "\n",
        "                poly_1 = Polygon(box_1)\n",
        "                poly_2 = Polygon(box_2)\n",
        "\n",
        "                if poly_1.union(poly_2).area!=0:\n",
        "                    iou += poly_1.intersection(poly_2).area / poly_1.union(poly_2).area\n",
        "        losses[idx]=iou\n",
        "        idx+=1\n",
        "    return np.mean(losses)*100"
      ],
      "execution_count": 8,
      "outputs": []
    },
    {
      "cell_type": "markdown",
      "metadata": {
        "id": "dxJffkgwN6jC"
      },
      "source": [
        "#Data Comparison\n",
        "Calculation of metrics for original data of 1000 documents and for all models for 1000 documents (from unseen data)."
      ]
    },
    {
      "cell_type": "code",
      "metadata": {
        "id": "zkq1AtqOBDch"
      },
      "source": [
        "overlist = [overlapping_loss(publaydata[0:1000]), overlapping_loss(g_data[0:1000]), overlapping_loss(VAE_res[0:1000]),overlapping_loss(Transformer_res)]\n",
        "ioulist = [calculate_iou(publaydata[0:1000]), calculate_iou(g_data[0:1000]), calculate_iou(VAE_res[0:1000]),calculate_iou(Transformer_res)]\n",
        "alignlist = [alignment_loss(publaydata[0:1000]), alignment_loss(g_data[0:1000]), alignment_loss(VAE_res[0:1000]),alignment_loss(Transformer_res)]"
      ],
      "execution_count": 9,
      "outputs": []
    },
    {
      "cell_type": "code",
      "metadata": {
        "id": "lumvx5zgC9yr"
      },
      "source": [
        "#normalizing the lists w.r.t the original data\n",
        "overlist/=overlist[0]\n",
        "ioulist/=ioulist[0]\n",
        "alignlist/=alignlist[0]\n",
        "\n",
        "rows = [\"Original Data\", \"LayoutGAN\", \"LayoutVAE\",\"Layout Transformer\"]\n",
        "df=pd.DataFrame(index=rows)\n",
        "df[\"Overlap\"]=overlist\n",
        "df[\"IOU\"]=ioulist\n",
        "df[\"Alignment\"]=alignlist"
      ],
      "execution_count": 10,
      "outputs": []
    },
    {
      "cell_type": "code",
      "metadata": {
        "colab": {
          "base_uri": "https://localhost:8080/",
          "height": 190
        },
        "id": "GRrfRwETFmF4",
        "outputId": "45f7104a-4558-43aa-d003-71b70489a259"
      },
      "source": [
        "print(\"Comparison for Publaynet Dataset\")\n",
        "display(df)"
      ],
      "execution_count": 11,
      "outputs": [
        {
          "output_type": "stream",
          "text": [
            "Comparison for Publaynet Dataset\n"
          ],
          "name": "stdout"
        },
        {
          "output_type": "display_data",
          "data": {
            "text/html": [
              "<div>\n",
              "<style scoped>\n",
              "    .dataframe tbody tr th:only-of-type {\n",
              "        vertical-align: middle;\n",
              "    }\n",
              "\n",
              "    .dataframe tbody tr th {\n",
              "        vertical-align: top;\n",
              "    }\n",
              "\n",
              "    .dataframe thead th {\n",
              "        text-align: right;\n",
              "    }\n",
              "</style>\n",
              "<table border=\"1\" class=\"dataframe\">\n",
              "  <thead>\n",
              "    <tr style=\"text-align: right;\">\n",
              "      <th></th>\n",
              "      <th>Overlap</th>\n",
              "      <th>IOU</th>\n",
              "      <th>Alignment</th>\n",
              "    </tr>\n",
              "  </thead>\n",
              "  <tbody>\n",
              "    <tr>\n",
              "      <th>Original Data</th>\n",
              "      <td>1.000000</td>\n",
              "      <td>1.000000</td>\n",
              "      <td>1.000000</td>\n",
              "    </tr>\n",
              "    <tr>\n",
              "      <th>LayoutGAN</th>\n",
              "      <td>1172.005234</td>\n",
              "      <td>2745.437529</td>\n",
              "      <td>1.164882</td>\n",
              "    </tr>\n",
              "    <tr>\n",
              "      <th>LayoutVAE</th>\n",
              "      <td>119.320127</td>\n",
              "      <td>185.864381</td>\n",
              "      <td>3.493406</td>\n",
              "    </tr>\n",
              "    <tr>\n",
              "      <th>Layout Transformer</th>\n",
              "      <td>1.090315</td>\n",
              "      <td>1.422297</td>\n",
              "      <td>0.739862</td>\n",
              "    </tr>\n",
              "  </tbody>\n",
              "</table>\n",
              "</div>"
            ],
            "text/plain": [
              "                        Overlap          IOU  Alignment\n",
              "Original Data          1.000000     1.000000   1.000000\n",
              "LayoutGAN           1172.005234  2745.437529   1.164882\n",
              "LayoutVAE            119.320127   185.864381   3.493406\n",
              "Layout Transformer     1.090315     1.422297   0.739862"
            ]
          },
          "metadata": {
            "tags": []
          }
        }
      ]
    }
  ]
}