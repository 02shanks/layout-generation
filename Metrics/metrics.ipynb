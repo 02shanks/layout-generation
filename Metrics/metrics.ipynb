{
  "nbformat": 4,
  "nbformat_minor": 2,
  "metadata": {
    "colab": {
      "name": "metrics.ipynb",
      "provenance": [],
      "collapsed_sections": []
    },
    "kernelspec": {
      "name": "python3",
      "display_name": "Python 3"
    },
    "language_info": {
      "name": "python"
    }
  },
  "cells": [
    {
      "cell_type": "markdown",
      "source": [
        "#Imports"
      ],
      "metadata": {
        "id": "F_A3n24sMYfx"
      }
    },
    {
      "cell_type": "code",
      "execution_count": 1,
      "source": [
        "# Drive Mounting (for Google Colab only). If not using Colab, comment the below two lines.\r\n",
        "from google.colab import drive\r\n",
        "drive.mount('/content/drive')"
      ],
      "outputs": [
        {
          "output_type": "stream",
          "name": "stdout",
          "text": [
            "Drive already mounted at /content/drive; to attempt to forcibly remount, call drive.mount(\"/content/drive\", force_remount=True).\n"
          ]
        }
      ],
      "metadata": {
        "colab": {
          "base_uri": "https://localhost:8080/"
        },
        "id": "I3oR3QRKPSfu",
        "outputId": "e9e4bcd8-0436-48d4-ed38-a338a4ae3d12"
      }
    },
    {
      "cell_type": "code",
      "execution_count": 2,
      "source": [
        "import numpy as np\r\n",
        "import pandas as pd\r\n",
        "from shapely.geometry import Polygon"
      ],
      "outputs": [],
      "metadata": {
        "id": "yEjKDwojt5qE"
      }
    },
    {
      "cell_type": "code",
      "execution_count": 3,
      "source": [
        "root=\"/content/drive/MyDrive/Folder_Name/\"               #path of the root directory"
      ],
      "outputs": [],
      "metadata": {
        "id": "X3kiwgIpsQzN"
      }
    },
    {
      "cell_type": "markdown",
      "source": [
        "#Data Loading"
      ],
      "metadata": {
        "id": "jdCPjnwvMgVc"
      }
    },
    {
      "cell_type": "code",
      "execution_count": 4,
      "source": [
        "publaydata = np.load(root+\"publaynet.npy\")\r\n",
        "Transformer_res=np.load(root+\"trans.npy\")\r\n",
        "VAE_res = np.load(root+\"VAE_res.npy\")\r\n",
        "GAN_res = np.load(root+\"GAN_res.npy\")"
      ],
      "outputs": [],
      "metadata": {
        "id": "3ybVHIU8uRoW"
      }
    },
    {
      "cell_type": "markdown",
      "source": [
        "Reshaping and arranging data in an optimal format. Preferred format is [c x y w h]\n",
        "\n",
        "* c is the class of the box.\n",
        "* x and y are the corrdinates for the top left corner of the box.\n",
        "* w and h are the width and height respectively. \n",
        "---\n",
        "\n"
      ],
      "metadata": {
        "id": "Y83pq-l_NL8y"
      }
    },
    {
      "cell_type": "code",
      "execution_count": 5,
      "source": [
        "g_data = GAN_res.reshape((1024, 9, 9))[:1000]\r\n",
        "g_data = g_data[...,0:5]\r\n",
        "g_data = g_data[...,[4,0,1,2,3]]\r\n",
        "g_data[...,1] = g_data[...,1] - g_data[...,3]/2\r\n",
        "g_data[...,2] = g_data[...,2] - g_data[...,4]/2\r\n",
        "\r\n",
        "g_data[0]"
      ],
      "outputs": [
        {
          "output_type": "execute_result",
          "data": {
            "text/plain": [
              "array([[0.37773186, 0.06993452, 0.19879478, 0.93849486, 0.37714368],\n",
              "       [0.63268024, 0.08424908, 0.09495369, 0.7752126 , 0.770834  ],\n",
              "       [0.31078017, 0.22171676, 0.65355074, 0.6689019 , 0.08199155],\n",
              "       [0.9312403 , 0.20145085, 0.0982542 , 0.66996616, 0.05629438],\n",
              "       [0.6019517 , 0.11892939, 0.76413304, 0.7681484 , 0.15887733],\n",
              "       [0.31345773, 0.22002116, 0.64820474, 0.67002124, 0.08382312],\n",
              "       [0.31812534, 0.22010046, 0.6488024 , 0.6710409 , 0.08644559],\n",
              "       [0.36010844, 0.07238191, 0.18851566, 0.9383161 , 0.40076703],\n",
              "       [0.93621445, 0.20135537, 0.09839028, 0.66991025, 0.05546013]],\n",
              "      dtype=float32)"
            ]
          },
          "metadata": {
            "tags": []
          },
          "execution_count": 5
        }
      ],
      "metadata": {
        "id": "u_RK-gO_YPYj",
        "colab": {
          "base_uri": "https://localhost:8080/"
        },
        "outputId": "a2453ea3-1302-44b8-dff5-67bfd9c979bc"
      }
    },
    {
      "cell_type": "markdown",
      "source": [
        "#Losses\r\n",
        "Overall three losses are calculated for the comparison:\r\n",
        "* Overlapping\r\n",
        "* Alignment\r\n",
        "* IoU\r\n",
        "\r\n",
        "The expressions for the calculations can be found in the Readme file shared."
      ],
      "metadata": {
        "id": "YMkdEbASNVY6"
      }
    },
    {
      "cell_type": "code",
      "execution_count": 6,
      "source": [
        "def overlapping_loss(result):\r\n",
        "    losses=np.zeros(len(result))\r\n",
        "    idx=0\r\n",
        "    for i in result:\r\n",
        "        over=0\r\n",
        "        for j in range(len(i)):\r\n",
        "            A=float(i[j][3]*i[j][4])\r\n",
        "            if A==0:\r\n",
        "                continue\r\n",
        "            for k in range(len(i)):\r\n",
        "                if j==k:\r\n",
        "                    continue\r\n",
        "                x1=i[j][1]\r\n",
        "                x2=i[j][1]+i[j][3]\r\n",
        "                y1=i[j][2]\r\n",
        "                y2=i[j][2]+i[j][4]\r\n",
        "                x3=i[k][1]\r\n",
        "                x4=i[k][1]+i[k][3]\r\n",
        "                y3=i[k][2]\r\n",
        "                y4=i[k][2]+i[k][4]\r\n",
        "                x_over=max(min(x2,x4)-max(x1,x3),0)\r\n",
        "                y_over=max(min(y2,y4)-max(y1,y3),0)\r\n",
        "                over+=x_over*y_over/A\r\n",
        "        losses[idx]=over\r\n",
        "        idx+=1\r\n",
        "    return np.mean(losses)*100"
      ],
      "outputs": [],
      "metadata": {
        "id": "MwXRP1cqv6qT"
      }
    },
    {
      "cell_type": "code",
      "execution_count": 7,
      "source": [
        "def alignment_loss(result):\r\n",
        "    xl =result[...,1]           \r\n",
        "    yl = result[...,2]\r\n",
        "    \r\n",
        "    xr = xl+result[...,3]\r\n",
        "    yr = yl + result[...,4]\r\n",
        "\r\n",
        "    xc = (xl + xr)/2\r\n",
        "    yc = (yl + yr)/2\r\n",
        "\r\n",
        "    ele = [xl , yl , xc, yc, xr, yr]\r\n",
        "    ele1 = []\r\n",
        "    epsilon = 0\r\n",
        "    for element in ele:\r\n",
        "        min_xl = np.ones(shape = element.shape)\r\n",
        "        for i in range(len(element)):\r\n",
        "            for j in range(len(element[i])):\r\n",
        "                for k in range(len(element[i])): \r\n",
        "                    if j != k :\r\n",
        "                        min_xl[i][j] = min(min_xl[i][j],abs(element[i][j]-element[i][k]))        \r\n",
        "        min_xl = -np.log(1.0-min_xl + epsilon)\r\n",
        "        ele1.append(min_xl)\r\n",
        "    ele1 = np.min(np.array(ele1), axis = 0)\r\n",
        "    ele1 = np.mean(np.sum(ele1 , axis  = 1))\r\n",
        "    return ele1*100"
      ],
      "outputs": [],
      "metadata": {
        "id": "vm1lD-2dHNtF"
      }
    },
    {
      "cell_type": "code",
      "execution_count": 8,
      "source": [
        "def calculate_iou(result):\r\n",
        "    losses=np.zeros(len(result))\r\n",
        "    idx=0\r\n",
        "    for i in result:\r\n",
        "        iou=0\r\n",
        "        for j in range(len(i)):\r\n",
        "            for k in range(j+1,len(i)):\r\n",
        "                x1=i[j][1]\r\n",
        "                x2=i[j][1]+i[j][3]\r\n",
        "                y1=i[j][2]\r\n",
        "                y2=i[j][2]+i[j][4]\r\n",
        "                x3=i[k][1]\r\n",
        "                x4=i[k][1]+i[k][3]\r\n",
        "                y3=i[k][2]\r\n",
        "                y4=i[k][2]+i[k][4]\r\n",
        "\r\n",
        "                box_1 = [[x1, y1], [x2, y1], [x2, y2], [x1, y2]]\r\n",
        "                box_2 = [[x3, y3], [x4, y3], [x4, y4], [x3, y4]]\r\n",
        "\r\n",
        "                poly_1 = Polygon(box_1)\r\n",
        "                poly_2 = Polygon(box_2)\r\n",
        "\r\n",
        "                if poly_1.union(poly_2).area!=0:\r\n",
        "                    iou += poly_1.intersection(poly_2).area / poly_1.union(poly_2).area\r\n",
        "        losses[idx]=iou\r\n",
        "        idx+=1\r\n",
        "    return np.mean(losses)*100"
      ],
      "outputs": [],
      "metadata": {
        "id": "DHPkZGI1C9sc"
      }
    },
    {
      "cell_type": "markdown",
      "source": [
        "#Data Comparison\n",
        "Calculation of metrics for original data of 1000 documents and for all models for 1000 documents (from unseen data)."
      ],
      "metadata": {
        "id": "dxJffkgwN6jC"
      }
    },
    {
      "cell_type": "code",
      "execution_count": 9,
      "source": [
        "overlist = [overlapping_loss(publaydata[0:1000]), overlapping_loss(g_data[0:1000]), overlapping_loss(VAE_res[0:1000]),overlapping_loss(Transformer_res)]\r\n",
        "ioulist = [calculate_iou(publaydata[0:1000]), calculate_iou(g_data[0:1000]), calculate_iou(VAE_res[0:1000]),calculate_iou(Transformer_res)]\r\n",
        "alignlist = [alignment_loss(publaydata[0:1000]), alignment_loss(g_data[0:1000]), alignment_loss(VAE_res[0:1000]),alignment_loss(Transformer_res)]"
      ],
      "outputs": [],
      "metadata": {
        "id": "zkq1AtqOBDch"
      }
    },
    {
      "cell_type": "code",
      "execution_count": 10,
      "source": [
        "#normalizing the lists w.r.t the original data\r\n",
        "overlist/=overlist[0]\r\n",
        "ioulist/=ioulist[0]\r\n",
        "alignlist/=alignlist[0]\r\n",
        "\r\n",
        "rows = [\"Original Data\", \"LayoutGAN\", \"LayoutVAE\",\"Layout Transformer\"]\r\n",
        "df=pd.DataFrame(index=rows)\r\n",
        "df[\"Overlap\"]=overlist\r\n",
        "df[\"IOU\"]=ioulist\r\n",
        "df[\"Alignment\"]=alignlist"
      ],
      "outputs": [],
      "metadata": {
        "id": "lumvx5zgC9yr"
      }
    },
    {
      "cell_type": "code",
      "execution_count": 11,
      "source": [
        "print(\"Comparison for Publaynet Dataset\")\r\n",
        "display(df)"
      ],
      "outputs": [
        {
          "output_type": "stream",
          "name": "stdout",
          "text": [
            "Comparison for Publaynet Dataset\n"
          ]
        },
        {
          "output_type": "display_data",
          "data": {
            "text/plain": [
              "                        Overlap          IOU  Alignment\n",
              "Original Data          1.000000     1.000000   1.000000\n",
              "LayoutGAN           1172.005234  2745.437529   1.164882\n",
              "LayoutVAE            119.320127   185.864381   3.493406\n",
              "Layout Transformer     1.090315     1.422297   0.739862"
            ],
            "text/html": [
              "<div>\n",
              "<style scoped>\n",
              "    .dataframe tbody tr th:only-of-type {\n",
              "        vertical-align: middle;\n",
              "    }\n",
              "\n",
              "    .dataframe tbody tr th {\n",
              "        vertical-align: top;\n",
              "    }\n",
              "\n",
              "    .dataframe thead th {\n",
              "        text-align: right;\n",
              "    }\n",
              "</style>\n",
              "<table border=\"1\" class=\"dataframe\">\n",
              "  <thead>\n",
              "    <tr style=\"text-align: right;\">\n",
              "      <th></th>\n",
              "      <th>Overlap</th>\n",
              "      <th>IOU</th>\n",
              "      <th>Alignment</th>\n",
              "    </tr>\n",
              "  </thead>\n",
              "  <tbody>\n",
              "    <tr>\n",
              "      <th>Original Data</th>\n",
              "      <td>1.000000</td>\n",
              "      <td>1.000000</td>\n",
              "      <td>1.000000</td>\n",
              "    </tr>\n",
              "    <tr>\n",
              "      <th>LayoutGAN</th>\n",
              "      <td>1172.005234</td>\n",
              "      <td>2745.437529</td>\n",
              "      <td>1.164882</td>\n",
              "    </tr>\n",
              "    <tr>\n",
              "      <th>LayoutVAE</th>\n",
              "      <td>119.320127</td>\n",
              "      <td>185.864381</td>\n",
              "      <td>3.493406</td>\n",
              "    </tr>\n",
              "    <tr>\n",
              "      <th>Layout Transformer</th>\n",
              "      <td>1.090315</td>\n",
              "      <td>1.422297</td>\n",
              "      <td>0.739862</td>\n",
              "    </tr>\n",
              "  </tbody>\n",
              "</table>\n",
              "</div>"
            ]
          },
          "metadata": {
            "tags": []
          }
        }
      ],
      "metadata": {
        "colab": {
          "base_uri": "https://localhost:8080/",
          "height": 190
        },
        "id": "GRrfRwETFmF4",
        "outputId": "45f7104a-4558-43aa-d003-71b70489a259"
      }
    }
  ]
}